{
 "cells": [
  {
   "cell_type": "markdown",
   "metadata": {},
   "source": [
    "**CCDDNET TRAINING CODE**"
   ]
  },
  {
   "cell_type": "code",
   "execution_count": 7,
   "metadata": {
    "colab": {
     "background_save": true,
     "base_uri": "https://localhost:8080/"
    },
    "id": "B4KtBRi4JUbU",
    "outputId": "199961da-534c-4a17-980e-1338d437f1ca"
   },
   "outputs": [
    {
     "name": "stdout",
     "output_type": "stream",
     "text": [
      "WARNING:tensorflow:`period` argument is deprecated. Please use `save_freq` to specify the frequency in number of batches seen.\n",
      "Epoch 1/50\n",
      "  6/327 [..............................] - ETA: 3:52 - loss: 0.7426WARNING:tensorflow:Callback method `on_train_batch_end` is slow compared to the batch time (batch time: 0.3052s vs `on_train_batch_end` time: 0.3477s). Check your callbacks.\n",
      "327/327 [==============================] - ETA: 0s - loss: 0.6848Epoch 1: Training Loss: 0.6848\n",
      "327/327 [==============================] - 267s 762ms/step - loss: 0.6848 - val_loss: 0.6915 - lr: 0.0010\n",
      "Epoch 2/50\n",
      "327/327 [==============================] - ETA: 0s - loss: 0.6784Epoch 2: Training Loss: 0.6784\n",
      "327/327 [==============================] - 246s 753ms/step - loss: 0.6784 - val_loss: 0.6914 - lr: 9.6235e-04\n",
      "Epoch 3/50\n",
      "327/327 [==============================] - ETA: 0s - loss: 0.6760Epoch 3: Training Loss: 0.6760\n",
      "327/327 [==============================] - 249s 761ms/step - loss: 0.6760 - val_loss: 0.6930 - lr: 9.2612e-04\n",
      "Epoch 4/50\n",
      "327/327 [==============================] - ETA: 0s - loss: 0.6741Epoch 4: Training Loss: 0.6741\n",
      "327/327 [==============================] - 251s 766ms/step - loss: 0.6741 - val_loss: 0.9299 - lr: 8.9125e-04\n",
      "Epoch 5/50\n",
      "327/327 [==============================] - ETA: 0s - loss: 0.6732\n",
      "Epoch 5: saving model to D:\\PHD_WORK\\3rd_experiment\\BPS_DATASET\\checkpointbit_denoising_model_05.pb\n"
     ]
    },
    {
     "name": "stderr",
     "output_type": "stream",
     "text": [
      "WARNING:absl:Found untraced functions such as _jit_compiled_convolution_op, _jit_compiled_convolution_op, _jit_compiled_convolution_op, _jit_compiled_convolution_op, _jit_compiled_convolution_op while saving (showing 5 of 29). These functions will not be directly callable after loading.\n"
     ]
    },
    {
     "name": "stdout",
     "output_type": "stream",
     "text": [
      "INFO:tensorflow:Assets written to: D:\\PHD_WORK\\3rd_experiment\\BPS_DATASET\\checkpointbit_denoising_model_05.pb\\assets\n"
     ]
    },
    {
     "name": "stderr",
     "output_type": "stream",
     "text": [
      "INFO:tensorflow:Assets written to: D:\\PHD_WORK\\3rd_experiment\\BPS_DATASET\\checkpointbit_denoising_model_05.pb\\assets\n"
     ]
    },
    {
     "name": "stdout",
     "output_type": "stream",
     "text": [
      "Epoch 5: Training Loss: 0.6732\n",
      "327/327 [==============================] - 259s 792ms/step - loss: 0.6732 - val_loss: 0.6923 - lr: 8.5770e-04\n",
      "Epoch 6/50\n",
      "327/327 [==============================] - ETA: 0s - loss: 0.6737Epoch 6: Training Loss: 0.6737\n",
      "327/327 [==============================] - 245s 749ms/step - loss: 0.6737 - val_loss: 0.7259 - lr: 8.2540e-04\n",
      "Epoch 7/50\n",
      "327/327 [==============================] - ETA: 0s - loss: 0.6732Epoch 7: Training Loss: 0.6732\n",
      "327/327 [==============================] - 251s 769ms/step - loss: 0.6732 - val_loss: 0.7063 - lr: 7.9433e-04\n",
      "Epoch 8/50\n",
      "327/327 [==============================] - ETA: 0s - loss: 0.6724Epoch 8: Training Loss: 0.6724\n",
      "327/327 [==============================] - 253s 774ms/step - loss: 0.6724 - val_loss: 0.7158 - lr: 7.6442e-04\n",
      "Epoch 9/50\n",
      "327/327 [==============================] - ETA: 0s - loss: 0.6718Epoch 9: Training Loss: 0.6718\n",
      "327/327 [==============================] - 253s 773ms/step - loss: 0.6718 - val_loss: 0.7002 - lr: 7.3564e-04\n",
      "Epoch 10/50\n",
      "327/327 [==============================] - ETA: 0s - loss: 0.6714\n",
      "Epoch 10: saving model to D:\\PHD_WORK\\3rd_experiment\\BPS_DATASET\\checkpointbit_denoising_model_10.pb\n"
     ]
    },
    {
     "name": "stderr",
     "output_type": "stream",
     "text": [
      "WARNING:absl:Found untraced functions such as _jit_compiled_convolution_op, _jit_compiled_convolution_op, _jit_compiled_convolution_op, _jit_compiled_convolution_op, _jit_compiled_convolution_op while saving (showing 5 of 29). These functions will not be directly callable after loading.\n"
     ]
    },
    {
     "name": "stdout",
     "output_type": "stream",
     "text": [
      "INFO:tensorflow:Assets written to: D:\\PHD_WORK\\3rd_experiment\\BPS_DATASET\\checkpointbit_denoising_model_10.pb\\assets\n"
     ]
    },
    {
     "name": "stderr",
     "output_type": "stream",
     "text": [
      "INFO:tensorflow:Assets written to: D:\\PHD_WORK\\3rd_experiment\\BPS_DATASET\\checkpointbit_denoising_model_10.pb\\assets\n"
     ]
    },
    {
     "name": "stdout",
     "output_type": "stream",
     "text": [
      "Epoch 10: Training Loss: 0.6714\n",
      "327/327 [==============================] - 259s 791ms/step - loss: 0.6714 - val_loss: 0.6923 - lr: 7.0795e-04\n",
      "Epoch 11/50\n",
      "327/327 [==============================] - ETA: 0s - loss: 0.6699Epoch 11: Training Loss: 0.6699\n",
      "327/327 [==============================] - 252s 770ms/step - loss: 0.6699 - val_loss: 0.6935 - lr: 6.8129e-04\n",
      "Epoch 12/50\n",
      "327/327 [==============================] - ETA: 0s - loss: 0.6670Epoch 12: Training Loss: 0.6670\n",
      "327/327 [==============================] - 251s 766ms/step - loss: 0.6670 - val_loss: 0.6952 - lr: 6.5564e-04\n",
      "Epoch 13/50\n",
      "327/327 [==============================] - ETA: 0s - loss: 0.6603Epoch 13: Training Loss: 0.6603\n",
      "327/327 [==============================] - 248s 759ms/step - loss: 0.6603 - val_loss: 0.7038 - lr: 6.3096e-04\n",
      "Epoch 14/50\n",
      "327/327 [==============================] - ETA: 0s - loss: 0.6477Epoch 14: Training Loss: 0.6477\n",
      "327/327 [==============================] - 247s 755ms/step - loss: 0.6477 - val_loss: 0.7515 - lr: 6.0720e-04\n",
      "Epoch 15/50\n",
      "327/327 [==============================] - ETA: 0s - loss: 0.6319\n",
      "Epoch 15: saving model to D:\\PHD_WORK\\3rd_experiment\\BPS_DATASET\\checkpointbit_denoising_model_15.pb\n"
     ]
    },
    {
     "name": "stderr",
     "output_type": "stream",
     "text": [
      "WARNING:absl:Found untraced functions such as _jit_compiled_convolution_op, _jit_compiled_convolution_op, _jit_compiled_convolution_op, _jit_compiled_convolution_op, _jit_compiled_convolution_op while saving (showing 5 of 29). These functions will not be directly callable after loading.\n"
     ]
    },
    {
     "name": "stdout",
     "output_type": "stream",
     "text": [
      "INFO:tensorflow:Assets written to: D:\\PHD_WORK\\3rd_experiment\\BPS_DATASET\\checkpointbit_denoising_model_15.pb\\assets\n"
     ]
    },
    {
     "name": "stderr",
     "output_type": "stream",
     "text": [
      "INFO:tensorflow:Assets written to: D:\\PHD_WORK\\3rd_experiment\\BPS_DATASET\\checkpointbit_denoising_model_15.pb\\assets\n"
     ]
    },
    {
     "name": "stdout",
     "output_type": "stream",
     "text": [
      "Epoch 15: Training Loss: 0.6319\n",
      "327/327 [==============================] - 256s 783ms/step - loss: 0.6319 - val_loss: 0.7441 - lr: 5.8434e-04\n",
      "Epoch 16/50\n",
      "327/327 [==============================] - ETA: 0s - loss: 0.6156Epoch 16: Training Loss: 0.6156\n",
      "327/327 [==============================] - 249s 760ms/step - loss: 0.6156 - val_loss: 0.7756 - lr: 5.6234e-04\n",
      "Epoch 17/50\n",
      "327/327 [==============================] - ETA: 0s - loss: 0.5994Epoch 17: Training Loss: 0.5994\n",
      "327/327 [==============================] - 250s 766ms/step - loss: 0.5994 - val_loss: 0.7992 - lr: 5.4117e-04\n",
      "Epoch 18/50\n",
      "327/327 [==============================] - ETA: 0s - loss: 0.5839Epoch 18: Training Loss: 0.5839\n",
      "327/327 [==============================] - 240s 735ms/step - loss: 0.5839 - val_loss: 0.7657 - lr: 5.2079e-04\n",
      "Epoch 19/50\n",
      "327/327 [==============================] - ETA: 0s - loss: 0.5689Epoch 19: Training Loss: 0.5689\n",
      "327/327 [==============================] - 248s 758ms/step - loss: 0.5689 - val_loss: 0.7937 - lr: 5.0119e-04\n",
      "Epoch 20/50\n",
      "327/327 [==============================] - ETA: 0s - loss: 0.5543\n",
      "Epoch 20: saving model to D:\\PHD_WORK\\3rd_experiment\\BPS_DATASET\\checkpointbit_denoising_model_20.pb\n"
     ]
    },
    {
     "name": "stderr",
     "output_type": "stream",
     "text": [
      "WARNING:absl:Found untraced functions such as _jit_compiled_convolution_op, _jit_compiled_convolution_op, _jit_compiled_convolution_op, _jit_compiled_convolution_op, _jit_compiled_convolution_op while saving (showing 5 of 29). These functions will not be directly callable after loading.\n"
     ]
    },
    {
     "name": "stdout",
     "output_type": "stream",
     "text": [
      "INFO:tensorflow:Assets written to: D:\\PHD_WORK\\3rd_experiment\\BPS_DATASET\\checkpointbit_denoising_model_20.pb\\assets\n"
     ]
    },
    {
     "name": "stderr",
     "output_type": "stream",
     "text": [
      "INFO:tensorflow:Assets written to: D:\\PHD_WORK\\3rd_experiment\\BPS_DATASET\\checkpointbit_denoising_model_20.pb\\assets\n"
     ]
    },
    {
     "name": "stdout",
     "output_type": "stream",
     "text": [
      "Epoch 20: Training Loss: 0.5543\n",
      "327/327 [==============================] - 255s 780ms/step - loss: 0.5543 - val_loss: 0.7964 - lr: 4.8232e-04\n",
      "Epoch 21/50\n",
      "327/327 [==============================] - ETA: 0s - loss: 0.5402Epoch 21: Training Loss: 0.5402\n",
      "327/327 [==============================] - 247s 755ms/step - loss: 0.5402 - val_loss: 0.8105 - lr: 4.6416e-04\n",
      "Epoch 22/50\n",
      "327/327 [==============================] - ETA: 0s - loss: 0.5274Epoch 22: Training Loss: 0.5274\n",
      "327/327 [==============================] - 247s 756ms/step - loss: 0.5274 - val_loss: 0.8276 - lr: 4.4668e-04\n",
      "Epoch 23/50\n",
      "327/327 [==============================] - ETA: 0s - loss: 0.5148Epoch 23: Training Loss: 0.5148\n",
      "327/327 [==============================] - 240s 733ms/step - loss: 0.5148 - val_loss: 0.9465 - lr: 4.2987e-04\n",
      "Epoch 24/50\n",
      "327/327 [==============================] - ETA: 0s - loss: 0.5036Epoch 24: Training Loss: 0.5036\n",
      "327/327 [==============================] - 241s 736ms/step - loss: 0.5036 - val_loss: 1.0665 - lr: 4.1368e-04\n",
      "Epoch 25/50\n",
      "327/327 [==============================] - ETA: 0s - loss: 0.4922\n",
      "Epoch 25: saving model to D:\\PHD_WORK\\3rd_experiment\\BPS_DATASET\\checkpointbit_denoising_model_25.pb\n"
     ]
    },
    {
     "name": "stderr",
     "output_type": "stream",
     "text": [
      "WARNING:absl:Found untraced functions such as _jit_compiled_convolution_op, _jit_compiled_convolution_op, _jit_compiled_convolution_op, _jit_compiled_convolution_op, _jit_compiled_convolution_op while saving (showing 5 of 29). These functions will not be directly callable after loading.\n"
     ]
    },
    {
     "name": "stdout",
     "output_type": "stream",
     "text": [
      "INFO:tensorflow:Assets written to: D:\\PHD_WORK\\3rd_experiment\\BPS_DATASET\\checkpointbit_denoising_model_25.pb\\assets\n"
     ]
    },
    {
     "name": "stderr",
     "output_type": "stream",
     "text": [
      "INFO:tensorflow:Assets written to: D:\\PHD_WORK\\3rd_experiment\\BPS_DATASET\\checkpointbit_denoising_model_25.pb\\assets\n"
     ]
    },
    {
     "name": "stdout",
     "output_type": "stream",
     "text": [
      "Epoch 25: Training Loss: 0.4922\n",
      "327/327 [==============================] - 263s 803ms/step - loss: 0.4922 - val_loss: 0.9064 - lr: 3.9811e-04\n",
      "Epoch 26/50\n",
      "327/327 [==============================] - ETA: 0s - loss: 0.4822Epoch 26: Training Loss: 0.4822\n",
      "327/327 [==============================] - 246s 750ms/step - loss: 0.4822 - val_loss: 0.8766 - lr: 3.8312e-04\n",
      "Epoch 27/50\n",
      "327/327 [==============================] - ETA: 0s - loss: 0.4723Epoch 27: Training Loss: 0.4723\n",
      "327/327 [==============================] - 246s 751ms/step - loss: 0.4723 - val_loss: 0.8966 - lr: 3.6869e-04\n",
      "Epoch 28/50\n",
      "327/327 [==============================] - ETA: 0s - loss: 0.4640Epoch 28: Training Loss: 0.4640\n",
      "327/327 [==============================] - 234s 715ms/step - loss: 0.4640 - val_loss: 0.9575 - lr: 3.5481e-04\n",
      "Epoch 29/50\n",
      "327/327 [==============================] - ETA: 0s - loss: 0.4560Epoch 29: Training Loss: 0.4560\n",
      "327/327 [==============================] - 242s 739ms/step - loss: 0.4560 - val_loss: 0.9382 - lr: 3.4145e-04\n",
      "Epoch 30/50\n",
      "327/327 [==============================] - ETA: 0s - loss: 0.4492\n",
      "Epoch 30: saving model to D:\\PHD_WORK\\3rd_experiment\\BPS_DATASET\\checkpointbit_denoising_model_30.pb\n"
     ]
    },
    {
     "name": "stderr",
     "output_type": "stream",
     "text": [
      "WARNING:absl:Found untraced functions such as _jit_compiled_convolution_op, _jit_compiled_convolution_op, _jit_compiled_convolution_op, _jit_compiled_convolution_op, _jit_compiled_convolution_op while saving (showing 5 of 29). These functions will not be directly callable after loading.\n"
     ]
    },
    {
     "name": "stdout",
     "output_type": "stream",
     "text": [
      "INFO:tensorflow:Assets written to: D:\\PHD_WORK\\3rd_experiment\\BPS_DATASET\\checkpointbit_denoising_model_30.pb\\assets\n"
     ]
    },
    {
     "name": "stderr",
     "output_type": "stream",
     "text": [
      "INFO:tensorflow:Assets written to: D:\\PHD_WORK\\3rd_experiment\\BPS_DATASET\\checkpointbit_denoising_model_30.pb\\assets\n"
     ]
    },
    {
     "name": "stdout",
     "output_type": "stream",
     "text": [
      "Epoch 30: Training Loss: 0.4492\n",
      "327/327 [==============================] - 248s 758ms/step - loss: 0.4492 - val_loss: 1.0669 - lr: 3.2860e-04\n",
      "Epoch 31/50\n",
      "327/327 [==============================] - ETA: 0s - loss: 0.4421Epoch 31: Training Loss: 0.4421\n",
      "327/327 [==============================] - 243s 743ms/step - loss: 0.4421 - val_loss: 1.0179 - lr: 3.1623e-04\n",
      "Epoch 32/50\n",
      "327/327 [==============================] - ETA: 0s - loss: 0.4364Epoch 32: Training Loss: 0.4364\n",
      "327/327 [==============================] - 240s 733ms/step - loss: 0.4364 - val_loss: 0.9882 - lr: 3.0432e-04\n",
      "Epoch 33/50\n",
      "327/327 [==============================] - ETA: 0s - loss: 0.4301Epoch 33: Training Loss: 0.4301\n",
      "327/327 [==============================] - 238s 729ms/step - loss: 0.4301 - val_loss: 0.9959 - lr: 2.9286e-04\n",
      "Epoch 34/50\n",
      "327/327 [==============================] - ETA: 0s - loss: 0.4244Epoch 34: Training Loss: 0.4244\n",
      "327/327 [==============================] - 239s 731ms/step - loss: 0.4244 - val_loss: 1.0262 - lr: 2.8184e-04\n",
      "Epoch 35/50\n",
      "327/327 [==============================] - ETA: 0s - loss: 0.4205\n",
      "Epoch 35: saving model to D:\\PHD_WORK\\3rd_experiment\\BPS_DATASET\\checkpointbit_denoising_model_35.pb\n"
     ]
    },
    {
     "name": "stderr",
     "output_type": "stream",
     "text": [
      "WARNING:absl:Found untraced functions such as _jit_compiled_convolution_op, _jit_compiled_convolution_op, _jit_compiled_convolution_op, _jit_compiled_convolution_op, _jit_compiled_convolution_op while saving (showing 5 of 29). These functions will not be directly callable after loading.\n"
     ]
    },
    {
     "name": "stdout",
     "output_type": "stream",
     "text": [
      "INFO:tensorflow:Assets written to: D:\\PHD_WORK\\3rd_experiment\\BPS_DATASET\\checkpointbit_denoising_model_35.pb\\assets\n"
     ]
    },
    {
     "name": "stderr",
     "output_type": "stream",
     "text": [
      "INFO:tensorflow:Assets written to: D:\\PHD_WORK\\3rd_experiment\\BPS_DATASET\\checkpointbit_denoising_model_35.pb\\assets\n"
     ]
    },
    {
     "name": "stdout",
     "output_type": "stream",
     "text": [
      "Epoch 35: Training Loss: 0.4205\n",
      "327/327 [==============================] - 248s 757ms/step - loss: 0.4205 - val_loss: 1.2016 - lr: 2.7123e-04\n",
      "Epoch 36/50\n",
      "327/327 [==============================] - ETA: 0s - loss: 0.4150Epoch 36: Training Loss: 0.4150\n",
      "327/327 [==============================] - 240s 732ms/step - loss: 0.4150 - val_loss: 1.0067 - lr: 2.6102e-04\n",
      "Epoch 37/50\n",
      "327/327 [==============================] - ETA: 0s - loss: 0.4119Epoch 37: Training Loss: 0.4119\n",
      "327/327 [==============================] - 239s 732ms/step - loss: 0.4119 - val_loss: 0.9661 - lr: 2.5119e-04\n",
      "Epoch 38/50\n",
      "327/327 [==============================] - ETA: 0s - loss: 0.4078Epoch 38: Training Loss: 0.4078\n",
      "327/327 [==============================] - 239s 732ms/step - loss: 0.4078 - val_loss: 1.0507 - lr: 2.4173e-04\n",
      "Epoch 39/50\n",
      "327/327 [==============================] - ETA: 0s - loss: 0.4035Epoch 39: Training Loss: 0.4035\n",
      "327/327 [==============================] - 240s 733ms/step - loss: 0.4035 - val_loss: 1.0740 - lr: 2.3263e-04\n",
      "Epoch 40/50\n",
      "327/327 [==============================] - ETA: 0s - loss: 0.3997\n",
      "Epoch 40: saving model to D:\\PHD_WORK\\3rd_experiment\\BPS_DATASET\\checkpointbit_denoising_model_40.pb\n"
     ]
    },
    {
     "name": "stderr",
     "output_type": "stream",
     "text": [
      "WARNING:absl:Found untraced functions such as _jit_compiled_convolution_op, _jit_compiled_convolution_op, _jit_compiled_convolution_op, _jit_compiled_convolution_op, _jit_compiled_convolution_op while saving (showing 5 of 29). These functions will not be directly callable after loading.\n"
     ]
    },
    {
     "name": "stdout",
     "output_type": "stream",
     "text": [
      "INFO:tensorflow:Assets written to: D:\\PHD_WORK\\3rd_experiment\\BPS_DATASET\\checkpointbit_denoising_model_40.pb\\assets\n"
     ]
    },
    {
     "name": "stderr",
     "output_type": "stream",
     "text": [
      "INFO:tensorflow:Assets written to: D:\\PHD_WORK\\3rd_experiment\\BPS_DATASET\\checkpointbit_denoising_model_40.pb\\assets\n"
     ]
    },
    {
     "name": "stdout",
     "output_type": "stream",
     "text": [
      "Epoch 40: Training Loss: 0.3997\n",
      "327/327 [==============================] - 248s 760ms/step - loss: 0.3997 - val_loss: 1.2356 - lr: 2.2387e-04\n",
      "Epoch 41/50\n",
      "327/327 [==============================] - ETA: 0s - loss: 0.3959Epoch 41: Training Loss: 0.3959\n",
      "327/327 [==============================] - 240s 732ms/step - loss: 0.3959 - val_loss: 1.1075 - lr: 2.1544e-04\n",
      "Epoch 42/50\n",
      "327/327 [==============================] - ETA: 0s - loss: 0.3928Epoch 42: Training Loss: 0.3928\n",
      "327/327 [==============================] - 239s 732ms/step - loss: 0.3928 - val_loss: 1.1443 - lr: 2.0733e-04\n",
      "Epoch 43/50\n",
      "327/327 [==============================] - ETA: 0s - loss: 0.3897Epoch 43: Training Loss: 0.3897\n",
      "327/327 [==============================] - 240s 733ms/step - loss: 0.3897 - val_loss: 1.0605 - lr: 1.9953e-04\n",
      "Epoch 44/50\n",
      "327/327 [==============================] - ETA: 0s - loss: 0.3873Epoch 44: Training Loss: 0.3873\n",
      "327/327 [==============================] - 239s 732ms/step - loss: 0.3873 - val_loss: 1.0197 - lr: 1.9201e-04\n",
      "Epoch 45/50\n",
      "327/327 [==============================] - ETA: 0s - loss: 0.3851\n",
      "Epoch 45: saving model to D:\\PHD_WORK\\3rd_experiment\\BPS_DATASET\\checkpointbit_denoising_model_45.pb\n"
     ]
    },
    {
     "name": "stderr",
     "output_type": "stream",
     "text": [
      "WARNING:absl:Found untraced functions such as _jit_compiled_convolution_op, _jit_compiled_convolution_op, _jit_compiled_convolution_op, _jit_compiled_convolution_op, _jit_compiled_convolution_op while saving (showing 5 of 29). These functions will not be directly callable after loading.\n"
     ]
    },
    {
     "name": "stdout",
     "output_type": "stream",
     "text": [
      "INFO:tensorflow:Assets written to: D:\\PHD_WORK\\3rd_experiment\\BPS_DATASET\\checkpointbit_denoising_model_45.pb\\assets\n"
     ]
    },
    {
     "name": "stderr",
     "output_type": "stream",
     "text": [
      "INFO:tensorflow:Assets written to: D:\\PHD_WORK\\3rd_experiment\\BPS_DATASET\\checkpointbit_denoising_model_45.pb\\assets\n"
     ]
    },
    {
     "name": "stdout",
     "output_type": "stream",
     "text": [
      "Epoch 45: Training Loss: 0.3851\n",
      "327/327 [==============================] - 248s 759ms/step - loss: 0.3851 - val_loss: 1.1863 - lr: 1.8478e-04\n",
      "Epoch 46/50\n",
      "327/327 [==============================] - ETA: 0s - loss: 0.3818Epoch 46: Training Loss: 0.3818\n",
      "327/327 [==============================] - 240s 732ms/step - loss: 0.3818 - val_loss: 1.1055 - lr: 1.7783e-04\n",
      "Epoch 47/50\n",
      "327/327 [==============================] - ETA: 0s - loss: 0.3804Epoch 47: Training Loss: 0.3804\n",
      "327/327 [==============================] - 239s 732ms/step - loss: 0.3804 - val_loss: 0.9477 - lr: 1.7113e-04\n",
      "Epoch 48/50\n",
      "327/327 [==============================] - ETA: 0s - loss: 0.3773Epoch 48: Training Loss: 0.3773\n",
      "327/327 [==============================] - 239s 732ms/step - loss: 0.3773 - val_loss: 1.1777 - lr: 1.6469e-04\n",
      "Epoch 49/50\n",
      "327/327 [==============================] - ETA: 0s - loss: 0.3758Epoch 49: Training Loss: 0.3758\n",
      "327/327 [==============================] - 240s 734ms/step - loss: 0.3758 - val_loss: 1.0417 - lr: 1.5849e-04\n",
      "Epoch 50/50\n",
      "327/327 [==============================] - ETA: 0s - loss: 0.3718\n",
      "Epoch 50: saving model to D:\\PHD_WORK\\3rd_experiment\\BPS_DATASET\\checkpointbit_denoising_model_50.pb\n"
     ]
    },
    {
     "name": "stderr",
     "output_type": "stream",
     "text": [
      "WARNING:absl:Found untraced functions such as _jit_compiled_convolution_op, _jit_compiled_convolution_op, _jit_compiled_convolution_op, _jit_compiled_convolution_op, _jit_compiled_convolution_op while saving (showing 5 of 29). These functions will not be directly callable after loading.\n"
     ]
    },
    {
     "name": "stdout",
     "output_type": "stream",
     "text": [
      "INFO:tensorflow:Assets written to: D:\\PHD_WORK\\3rd_experiment\\BPS_DATASET\\checkpointbit_denoising_model_50.pb\\assets\n"
     ]
    },
    {
     "name": "stderr",
     "output_type": "stream",
     "text": [
      "INFO:tensorflow:Assets written to: D:\\PHD_WORK\\3rd_experiment\\BPS_DATASET\\checkpointbit_denoising_model_50.pb\\assets\n"
     ]
    },
    {
     "name": "stdout",
     "output_type": "stream",
     "text": [
      "Epoch 50: Training Loss: 0.3718\n",
      "327/327 [==============================] - 251s 766ms/step - loss: 0.3718 - val_loss: 1.2009 - lr: 1.5252e-04\n"
     ]
    },
    {
     "name": "stderr",
     "output_type": "stream",
     "text": [
      "WARNING:absl:Found untraced functions such as _jit_compiled_convolution_op, _jit_compiled_convolution_op, _jit_compiled_convolution_op, _jit_compiled_convolution_op, _jit_compiled_convolution_op while saving (showing 5 of 29). These functions will not be directly callable after loading.\n"
     ]
    },
    {
     "name": "stdout",
     "output_type": "stream",
     "text": [
      "INFO:tensorflow:Assets written to: D:\\PHD_WORK\\3rd_experiment\\BPS_DATASET\\assets\n"
     ]
    },
    {
     "name": "stderr",
     "output_type": "stream",
     "text": [
      "INFO:tensorflow:Assets written to: D:\\PHD_WORK\\3rd_experiment\\BPS_DATASET\\assets\n"
     ]
    }
   ],
   "source": [
    "import os\n",
    "import numpy as np\n",
    "import tensorflow as tf\n",
    "import cv2\n",
    "\n",
    "# Paths to the noisy and clean image folders for training\n",
    "train_noisy_folder = '\\noisy\\\\noisy_10\\\\R\\\\bit_plane_0'\n",
    "train_clean_folder = '\\clean\\\\R\\\\bit_plane_0'\n",
    "\n",
    "\n",
    "#from google.colab.patches import cv2_imshow\n",
    "\n",
    "def load_images_from_folder(folder):\n",
    "    images = []\n",
    "    for filename in os.listdir(folder):\n",
    "        img = cv2.imread(os.path.join(folder, filename), cv2.IMREAD_GRAYSCALE)\n",
    "\n",
    "        if img is not None:\n",
    "            img = img.astype(np.float32) / 255.0  # Normalize to [0, 1]\n",
    "            img[img > 0.5] = 1  # Convert to binary (1 if greater than 0.5)\n",
    "            img[img <= 0.5] = 0  # Convert to binary (0 if less than or equal to 0.5)\n",
    "            images.append(img)\n",
    "    return np.array(images)\n",
    "\n",
    "def extract_patches(images, patch_size, stride):\n",
    "    patches = []\n",
    "    for img in images:\n",
    "        img = img.reshape(img.shape[0], img.shape[1], 1)  # Add channel dimension\n",
    "        for i in range(0, img.shape[0] - patch_size + 1, stride):\n",
    "            for j in range(0, img.shape[1] - patch_size + 1, stride):\n",
    "                patch = img[i:i+patch_size, j:j+patch_size]\n",
    "                patches.append(patch)\n",
    "    return np.array(patches)\n",
    "\n",
    "# Load training images\n",
    "X_train_images = load_images_from_folder(train_noisy_folder)\n",
    "Y_train_images = load_images_from_folder(train_clean_folder)\n",
    "\n",
    "# Extract patches\n",
    "patch_size = 40\n",
    "stride = 10\n",
    "X_train = extract_patches(X_train_images, patch_size, stride)\n",
    "Y_train = extract_patches(Y_train_images, patch_size, stride)\n",
    "\n",
    "# Define ECNDNet model for binary images\n",
    "def ECNDNet(input_shape):\n",
    "    inputs = tf.keras.layers.Input(shape=input_shape)\n",
    "\n",
    "    def conv_block(x, filters, kernel_size=3, dilation_rate=1, use_bn=True, use_relu=True):\n",
    "        x = tf.keras.layers.Conv2D(filters, kernel_size, padding='same', dilation_rate=dilation_rate)(x)\n",
    "        if use_bn:\n",
    "            x = tf.keras.layers.BatchNormalization()(x)\n",
    "        if use_relu:\n",
    "            x = tf.keras.layers.Activation('relu')(x)\n",
    "        return x\n",
    "\n",
    "    x = conv_block(inputs, 64, use_bn=False)\n",
    "\n",
    "    # Adding residual connections after every two convolution blocks\n",
    "    for i in range(1, 16):\n",
    "        x = conv_block(x, 64)\n",
    "        if i % 2 == 0:  # After every 2 convolution blocks\n",
    "            # Ensure that the input to the residual connection is the output of the conv_block\n",
    "            residual = tf.keras.layers.Conv2D(64, 1, padding='same')(x)\n",
    "            x = tf.keras.layers.Add()([x, residual])  # Residual connection\n",
    "\n",
    "        # Add dilation rate on specific layers\n",
    "        if i in [2, 5, 9, 12]:\n",
    "            x = conv_block(x, 64, dilation_rate=2)\n",
    "\n",
    "    x = conv_block(x, 64, use_bn=False)\n",
    "    outputs = tf.keras.layers.Conv2D(1, 1, padding='same', activation='sigmoid')(x)  # Single channel output\n",
    "\n",
    "    return tf.keras.models.Model(inputs, outputs)\n",
    "\n",
    "model = ECNDNet((patch_size, patch_size, 1))  # Ensure input shape is (40, 40, 1)\n",
    "\n",
    "# Compile the model\n",
    "initial_lr = 1e-3\n",
    "model.compile(optimizer=tf.keras.optimizers.Adam(learning_rate=initial_lr, beta_1=0.9, beta_2=0.999, epsilon=1e-8),\n",
    "              loss=tf.keras.losses.BinaryCrossentropy())\n",
    "\n",
    "# Learning rate schedule\n",
    "lr_schedule = tf.keras.callbacks.LearningRateScheduler(lambda epoch: initial_lr * (1e-3 ** (epoch / 180)))\n",
    "\n",
    "# Custom callback to print training loss after each epoch\n",
    "class PrintTrainingLoss(tf.keras.callbacks.Callback):\n",
    "    def on_epoch_end(self, epoch, logs=None):\n",
    "        print(f'Epoch {epoch + 1}: Training Loss: {logs[\"loss\"]:.4f}')\n",
    "\n",
    "# Create learning rate scheduler callback\n",
    "checkpoint_dir = \"\\checkpoint\"\n",
    "checkpoint_path = checkpoint_dir + 'bit_denoising_model_{epoch:02d}.pb'\n",
    "checkpoint_callback = tf.keras.callbacks.ModelCheckpoint(filepath=checkpoint_path, save_weights_only=False, save_best_only=False, monitor='val_loss', mode='min', verbose=1, save_freq='epoch', period=5)\n",
    "\n",
    "log_path = '\\log.csv'\n",
    "csv_logger = tf.keras.callbacks.CSVLogger(log_path)\n",
    "\n",
    "# Train the model\n",
    "model.fit(X_train, Y_train, epochs=50, batch_size=32, callbacks=[lr_schedule, checkpoint_callback, csv_logger, PrintTrainingLoss()], validation_split=0.1)\n",
    "\n",
    "# Save the model\n",
    "# BPS_DATASET is the folder where the model is saved\n",
    "model_path = \"\\BPS_DATASET\"\n",
    "model.save(model_path)\n",
    "\n",
    "# Function to reassemble patches into the original image size\n",
    "def reassemble_patches(patches, image_shape, patch_size, stride):\n",
    "    h, w = image_shape[:2]\n",
    "    reassembled_image = np.zeros((h, w))\n",
    "    patch_counts = np.zeros((h, w))\n",
    "\n",
    "    patch_idx = 0\n",
    "    for i in range(0, h - patch_size + 1, stride):\n",
    "        for j in range(0, w - patch_size + 1, stride):\n",
    "            reassembled_image[i:i+patch_size, j:j+patch_size] += patches[patch_idx]\n",
    "            patch_counts[i:i+patch_size, j:j+patch_size] += 1\n",
    "            patch_idx += 1\n",
    "\n",
    "    reassembled_image /= patch_counts\n",
    "    return np.clip(reassembled_image, 0, 1)  # Ensure values are in [0, 1]\n",
    "\n",
    "# Denoise the test images using the trained model (add your test code here)\n"
   ]
  },
  {
   "cell_type": "markdown",
   "metadata": {
    "id": "S9utj6NKcYtL"
   },
   "source": [
    "# **CONTINUE FOR FURTHER EPOCHS ON DIFFERENT DATASET**"
   ]
  },
  {
   "cell_type": "code",
   "execution_count": 1,
   "metadata": {
    "id": "xZT3q5bbYls6"
   },
   "outputs": [
    {
     "name": "stdout",
     "output_type": "stream",
     "text": [
      "WARNING:tensorflow:`period` argument is deprecated. Please use `save_freq` to specify the frequency in number of batches seen.\n",
      "Epoch 1/50\n",
      "  6/363 [..............................] - ETA: 7:24 - loss: 0.8091WARNING:tensorflow:Callback method `on_train_batch_end` is slow compared to the batch time (batch time: 0.0433s vs `on_train_batch_end` time: 1.0019s). Check your callbacks.\n",
      "363/363 [==============================] - ETA: 0s - loss: 0.6788Epoch 1: Training Loss: 0.6788\n",
      "363/363 [==============================] - 714s 2s/step - loss: 0.6788\n",
      "Epoch 2/50\n",
      "363/363 [==============================] - ETA: 0s - loss: 0.6561Epoch 2: Training Loss: 0.6561\n",
      "363/363 [==============================] - 710s 2s/step - loss: 0.6561\n",
      "Epoch 3/50\n",
      "363/363 [==============================] - ETA: 0s - loss: 0.6318Epoch 3: Training Loss: 0.6318\n",
      "363/363 [==============================] - 710s 2s/step - loss: 0.6318\n",
      "Epoch 4/50\n",
      "363/363 [==============================] - ETA: 0s - loss: 0.6197Epoch 4: Training Loss: 0.6197\n",
      "363/363 [==============================] - 708s 2s/step - loss: 0.6197\n",
      "Epoch 5/50\n",
      "363/363 [==============================] - ETA: 0s - loss: 0.6117\n",
      "Epoch 5: saving model to D:\\PHD_WORK\\3rd_experiment\\BPS_DATASET\\noisy_10_model\\noisy_10_G_bitplane_model\\checkpoint_g_10_3\\bit_denoising_model_05.pb\n"
     ]
    },
    {
     "name": "stderr",
     "output_type": "stream",
     "text": [
      "WARNING:absl:Found untraced functions such as _jit_compiled_convolution_op, _jit_compiled_convolution_op, _jit_compiled_convolution_op, _jit_compiled_convolution_op, _jit_compiled_convolution_op while saving (showing 5 of 29). These functions will not be directly callable after loading.\n"
     ]
    },
    {
     "name": "stdout",
     "output_type": "stream",
     "text": [
      "INFO:tensorflow:Assets written to: D:\\PHD_WORK\\3rd_experiment\\BPS_DATASET\\noisy_10_model\\noisy_10_G_bitplane_model\\checkpoint_g_10_3\\bit_denoising_model_05.pb\\assets\n"
     ]
    },
    {
     "name": "stderr",
     "output_type": "stream",
     "text": [
      "INFO:tensorflow:Assets written to: D:\\PHD_WORK\\3rd_experiment\\BPS_DATASET\\noisy_10_model\\noisy_10_G_bitplane_model\\checkpoint_g_10_3\\bit_denoising_model_05.pb\\assets\n"
     ]
    },
    {
     "name": "stdout",
     "output_type": "stream",
     "text": [
      "Epoch 5: Training Loss: 0.6117\n",
      "363/363 [==============================] - 715s 2s/step - loss: 0.6117\n",
      "Epoch 6/50\n",
      "363/363 [==============================] - ETA: 0s - loss: 0.6054Epoch 6: Training Loss: 0.6054\n",
      "363/363 [==============================] - 708s 2s/step - loss: 0.6054\n",
      "Epoch 7/50\n",
      "363/363 [==============================] - ETA: 0s - loss: 0.6001Epoch 7: Training Loss: 0.6001\n",
      "363/363 [==============================] - 708s 2s/step - loss: 0.6001\n",
      "Epoch 8/50\n",
      "363/363 [==============================] - ETA: 0s - loss: 0.5958Epoch 8: Training Loss: 0.5958\n",
      "363/363 [==============================] - 710s 2s/step - loss: 0.5958\n",
      "Epoch 9/50\n",
      "363/363 [==============================] - ETA: 0s - loss: 0.5913Epoch 9: Training Loss: 0.5913\n",
      "363/363 [==============================] - 710s 2s/step - loss: 0.5913\n",
      "Epoch 10/50\n",
      "363/363 [==============================] - ETA: 0s - loss: 0.5863\n",
      "Epoch 10: saving model to D:\\PHD_WORK\\3rd_experiment\\BPS_DATASET\\noisy_10_model\\noisy_10_G_bitplane_model\\checkpoint_g_10_3\\bit_denoising_model_10.pb\n"
     ]
    },
    {
     "name": "stderr",
     "output_type": "stream",
     "text": [
      "WARNING:absl:Found untraced functions such as _jit_compiled_convolution_op, _jit_compiled_convolution_op, _jit_compiled_convolution_op, _jit_compiled_convolution_op, _jit_compiled_convolution_op while saving (showing 5 of 29). These functions will not be directly callable after loading.\n"
     ]
    },
    {
     "name": "stdout",
     "output_type": "stream",
     "text": [
      "INFO:tensorflow:Assets written to: D:\\PHD_WORK\\3rd_experiment\\BPS_DATASET\\noisy_10_model\\noisy_10_G_bitplane_model\\checkpoint_g_10_3\\bit_denoising_model_10.pb\\assets\n"
     ]
    },
    {
     "name": "stderr",
     "output_type": "stream",
     "text": [
      "INFO:tensorflow:Assets written to: D:\\PHD_WORK\\3rd_experiment\\BPS_DATASET\\noisy_10_model\\noisy_10_G_bitplane_model\\checkpoint_g_10_3\\bit_denoising_model_10.pb\\assets\n"
     ]
    },
    {
     "name": "stdout",
     "output_type": "stream",
     "text": [
      "Epoch 10: Training Loss: 0.5863\n",
      "363/363 [==============================] - 713s 2s/step - loss: 0.5863\n",
      "Epoch 11/50\n",
      "363/363 [==============================] - ETA: 0s - loss: 0.5819Epoch 11: Training Loss: 0.5819\n",
      "363/363 [==============================] - 710s 2s/step - loss: 0.5819\n",
      "Epoch 12/50\n",
      "363/363 [==============================] - ETA: 0s - loss: 0.5774Epoch 12: Training Loss: 0.5774\n",
      "363/363 [==============================] - 710s 2s/step - loss: 0.5774\n",
      "Epoch 13/50\n",
      "363/363 [==============================] - ETA: 0s - loss: 0.5722Epoch 13: Training Loss: 0.5722\n",
      "363/363 [==============================] - 708s 2s/step - loss: 0.5722\n",
      "Epoch 14/50\n",
      "363/363 [==============================] - ETA: 0s - loss: 0.5676Epoch 14: Training Loss: 0.5676\n",
      "363/363 [==============================] - 710s 2s/step - loss: 0.5676\n",
      "Epoch 15/50\n",
      "363/363 [==============================] - ETA: 0s - loss: 0.5625\n",
      "Epoch 15: saving model to D:\\PHD_WORK\\3rd_experiment\\BPS_DATASET\\noisy_10_model\\noisy_10_G_bitplane_model\\checkpoint_g_10_3\\bit_denoising_model_15.pb\n"
     ]
    },
    {
     "name": "stderr",
     "output_type": "stream",
     "text": [
      "WARNING:absl:Found untraced functions such as _jit_compiled_convolution_op, _jit_compiled_convolution_op, _jit_compiled_convolution_op, _jit_compiled_convolution_op, _jit_compiled_convolution_op while saving (showing 5 of 29). These functions will not be directly callable after loading.\n"
     ]
    },
    {
     "name": "stdout",
     "output_type": "stream",
     "text": [
      "INFO:tensorflow:Assets written to: D:\\PHD_WORK\\3rd_experiment\\BPS_DATASET\\noisy_10_model\\noisy_10_G_bitplane_model\\checkpoint_g_10_3\\bit_denoising_model_15.pb\\assets\n"
     ]
    },
    {
     "name": "stderr",
     "output_type": "stream",
     "text": [
      "INFO:tensorflow:Assets written to: D:\\PHD_WORK\\3rd_experiment\\BPS_DATASET\\noisy_10_model\\noisy_10_G_bitplane_model\\checkpoint_g_10_3\\bit_denoising_model_15.pb\\assets\n"
     ]
    },
    {
     "name": "stdout",
     "output_type": "stream",
     "text": [
      "Epoch 15: Training Loss: 0.5625\n",
      "363/363 [==============================] - 711s 2s/step - loss: 0.5625\n",
      "Epoch 16/50\n",
      "363/363 [==============================] - ETA: 0s - loss: 0.5583Epoch 16: Training Loss: 0.5583\n",
      "363/363 [==============================] - 709s 2s/step - loss: 0.5583\n",
      "Epoch 17/50\n",
      "363/363 [==============================] - ETA: 0s - loss: 0.5535Epoch 17: Training Loss: 0.5535\n",
      "363/363 [==============================] - 709s 2s/step - loss: 0.5535\n",
      "Epoch 18/50\n",
      "363/363 [==============================] - ETA: 0s - loss: 0.5499Epoch 18: Training Loss: 0.5499\n",
      "363/363 [==============================] - 710s 2s/step - loss: 0.5499\n",
      "Epoch 19/50\n",
      "363/363 [==============================] - ETA: 0s - loss: 0.5453Epoch 19: Training Loss: 0.5453\n",
      "363/363 [==============================] - 710s 2s/step - loss: 0.5453\n",
      "Epoch 20/50\n",
      "363/363 [==============================] - ETA: 0s - loss: 0.5415\n",
      "Epoch 20: saving model to D:\\PHD_WORK\\3rd_experiment\\BPS_DATASET\\noisy_10_model\\noisy_10_G_bitplane_model\\checkpoint_g_10_3\\bit_denoising_model_20.pb\n"
     ]
    },
    {
     "name": "stderr",
     "output_type": "stream",
     "text": [
      "WARNING:absl:Found untraced functions such as _jit_compiled_convolution_op, _jit_compiled_convolution_op, _jit_compiled_convolution_op, _jit_compiled_convolution_op, _jit_compiled_convolution_op while saving (showing 5 of 29). These functions will not be directly callable after loading.\n"
     ]
    },
    {
     "name": "stdout",
     "output_type": "stream",
     "text": [
      "INFO:tensorflow:Assets written to: D:\\PHD_WORK\\3rd_experiment\\BPS_DATASET\\noisy_10_model\\noisy_10_G_bitplane_model\\checkpoint_g_10_3\\bit_denoising_model_20.pb\\assets\n"
     ]
    },
    {
     "name": "stderr",
     "output_type": "stream",
     "text": [
      "INFO:tensorflow:Assets written to: D:\\PHD_WORK\\3rd_experiment\\BPS_DATASET\\noisy_10_model\\noisy_10_G_bitplane_model\\checkpoint_g_10_3\\bit_denoising_model_20.pb\\assets\n"
     ]
    },
    {
     "name": "stdout",
     "output_type": "stream",
     "text": [
      "Epoch 20: Training Loss: 0.5415\n",
      "363/363 [==============================] - 713s 2s/step - loss: 0.5415\n",
      "Epoch 21/50\n",
      "363/363 [==============================] - ETA: 0s - loss: 0.5375Epoch 21: Training Loss: 0.5375\n",
      "363/363 [==============================] - 708s 2s/step - loss: 0.5375\n",
      "Epoch 22/50\n",
      "363/363 [==============================] - ETA: 0s - loss: 0.5338Epoch 22: Training Loss: 0.5338\n",
      "363/363 [==============================] - 710s 2s/step - loss: 0.5338\n",
      "Epoch 23/50\n",
      "363/363 [==============================] - ETA: 0s - loss: 0.5311Epoch 23: Training Loss: 0.5311\n",
      "363/363 [==============================] - 710s 2s/step - loss: 0.5311\n",
      "Epoch 24/50\n",
      "363/363 [==============================] - ETA: 0s - loss: 0.5278Epoch 24: Training Loss: 0.5278\n",
      "363/363 [==============================] - 710s 2s/step - loss: 0.5278\n",
      "Epoch 25/50\n",
      "363/363 [==============================] - ETA: 0s - loss: 0.5241\n",
      "Epoch 25: saving model to D:\\PHD_WORK\\3rd_experiment\\BPS_DATASET\\noisy_10_model\\noisy_10_G_bitplane_model\\checkpoint_g_10_3\\bit_denoising_model_25.pb\n"
     ]
    },
    {
     "name": "stderr",
     "output_type": "stream",
     "text": [
      "WARNING:absl:Found untraced functions such as _jit_compiled_convolution_op, _jit_compiled_convolution_op, _jit_compiled_convolution_op, _jit_compiled_convolution_op, _jit_compiled_convolution_op while saving (showing 5 of 29). These functions will not be directly callable after loading.\n"
     ]
    },
    {
     "name": "stdout",
     "output_type": "stream",
     "text": [
      "INFO:tensorflow:Assets written to: D:\\PHD_WORK\\3rd_experiment\\BPS_DATASET\\noisy_10_model\\noisy_10_G_bitplane_model\\checkpoint_g_10_3\\bit_denoising_model_25.pb\\assets\n"
     ]
    },
    {
     "name": "stderr",
     "output_type": "stream",
     "text": [
      "INFO:tensorflow:Assets written to: D:\\PHD_WORK\\3rd_experiment\\BPS_DATASET\\noisy_10_model\\noisy_10_G_bitplane_model\\checkpoint_g_10_3\\bit_denoising_model_25.pb\\assets\n"
     ]
    },
    {
     "name": "stdout",
     "output_type": "stream",
     "text": [
      "Epoch 25: Training Loss: 0.5241\n",
      "363/363 [==============================] - 713s 2s/step - loss: 0.5241\n",
      "Epoch 26/50\n",
      "363/363 [==============================] - ETA: 0s - loss: 0.5215Epoch 26: Training Loss: 0.5215\n",
      "363/363 [==============================] - 708s 2s/step - loss: 0.5215\n",
      "Epoch 27/50\n",
      "363/363 [==============================] - ETA: 0s - loss: 0.5186Epoch 27: Training Loss: 0.5186\n",
      "363/363 [==============================] - 710s 2s/step - loss: 0.5186\n",
      "Epoch 28/50\n",
      "363/363 [==============================] - ETA: 0s - loss: 0.5165Epoch 28: Training Loss: 0.5165\n",
      "363/363 [==============================] - 710s 2s/step - loss: 0.5165\n",
      "Epoch 29/50\n",
      "363/363 [==============================] - ETA: 0s - loss: 0.5138Epoch 29: Training Loss: 0.5138\n",
      "363/363 [==============================] - 710s 2s/step - loss: 0.5138\n",
      "Epoch 30/50\n",
      "363/363 [==============================] - ETA: 0s - loss: 0.5113\n",
      "Epoch 30: saving model to D:\\PHD_WORK\\3rd_experiment\\BPS_DATASET\\noisy_10_model\\noisy_10_G_bitplane_model\\checkpoint_g_10_3\\bit_denoising_model_30.pb\n"
     ]
    },
    {
     "name": "stderr",
     "output_type": "stream",
     "text": [
      "WARNING:absl:Found untraced functions such as _jit_compiled_convolution_op, _jit_compiled_convolution_op, _jit_compiled_convolution_op, _jit_compiled_convolution_op, _jit_compiled_convolution_op while saving (showing 5 of 29). These functions will not be directly callable after loading.\n"
     ]
    },
    {
     "name": "stdout",
     "output_type": "stream",
     "text": [
      "INFO:tensorflow:Assets written to: D:\\PHD_WORK\\3rd_experiment\\BPS_DATASET\\noisy_10_model\\noisy_10_G_bitplane_model\\checkpoint_g_10_3\\bit_denoising_model_30.pb\\assets\n"
     ]
    },
    {
     "name": "stderr",
     "output_type": "stream",
     "text": [
      "INFO:tensorflow:Assets written to: D:\\PHD_WORK\\3rd_experiment\\BPS_DATASET\\noisy_10_model\\noisy_10_G_bitplane_model\\checkpoint_g_10_3\\bit_denoising_model_30.pb\\assets\n"
     ]
    },
    {
     "name": "stdout",
     "output_type": "stream",
     "text": [
      "Epoch 30: Training Loss: 0.5113\n",
      "363/363 [==============================] - 713s 2s/step - loss: 0.5113\n",
      "Epoch 31/50\n",
      "363/363 [==============================] - ETA: 0s - loss: 0.5080Epoch 31: Training Loss: 0.5080\n",
      "363/363 [==============================] - 710s 2s/step - loss: 0.5080\n",
      "Epoch 32/50\n",
      "363/363 [==============================] - ETA: 0s - loss: 0.5074Epoch 32: Training Loss: 0.5074\n",
      "363/363 [==============================] - 708s 2s/step - loss: 0.5074\n",
      "Epoch 33/50\n",
      "363/363 [==============================] - ETA: 0s - loss: 0.5051Epoch 33: Training Loss: 0.5051\n",
      "363/363 [==============================] - 710s 2s/step - loss: 0.5051\n",
      "Epoch 34/50\n",
      "363/363 [==============================] - ETA: 0s - loss: 0.5027Epoch 34: Training Loss: 0.5027\n",
      "363/363 [==============================] - 710s 2s/step - loss: 0.5027\n",
      "Epoch 35/50\n",
      "363/363 [==============================] - ETA: 0s - loss: 0.5008\n",
      "Epoch 35: saving model to D:\\PHD_WORK\\3rd_experiment\\BPS_DATASET\\noisy_10_model\\noisy_10_G_bitplane_model\\checkpoint_g_10_3\\bit_denoising_model_35.pb\n"
     ]
    },
    {
     "name": "stderr",
     "output_type": "stream",
     "text": [
      "WARNING:absl:Found untraced functions such as _jit_compiled_convolution_op, _jit_compiled_convolution_op, _jit_compiled_convolution_op, _jit_compiled_convolution_op, _jit_compiled_convolution_op while saving (showing 5 of 29). These functions will not be directly callable after loading.\n"
     ]
    },
    {
     "name": "stdout",
     "output_type": "stream",
     "text": [
      "INFO:tensorflow:Assets written to: D:\\PHD_WORK\\3rd_experiment\\BPS_DATASET\\noisy_10_model\\noisy_10_G_bitplane_model\\checkpoint_g_10_3\\bit_denoising_model_35.pb\\assets\n"
     ]
    },
    {
     "name": "stderr",
     "output_type": "stream",
     "text": [
      "INFO:tensorflow:Assets written to: D:\\PHD_WORK\\3rd_experiment\\BPS_DATASET\\noisy_10_model\\noisy_10_G_bitplane_model\\checkpoint_g_10_3\\bit_denoising_model_35.pb\\assets\n"
     ]
    },
    {
     "name": "stdout",
     "output_type": "stream",
     "text": [
      "Epoch 35: Training Loss: 0.5008\n",
      "363/363 [==============================] - 711s 2s/step - loss: 0.5008\n",
      "Epoch 36/50\n",
      "363/363 [==============================] - ETA: 0s - loss: 0.4990Epoch 36: Training Loss: 0.4990\n",
      "363/363 [==============================] - 704s 2s/step - loss: 0.4990\n",
      "Epoch 37/50\n",
      "363/363 [==============================] - ETA: 0s - loss: 0.4981Epoch 37: Training Loss: 0.4981\n",
      "363/363 [==============================] - 708s 2s/step - loss: 0.4981\n",
      "Epoch 38/50\n",
      "363/363 [==============================] - ETA: 0s - loss: 0.4958Epoch 38: Training Loss: 0.4958\n",
      "363/363 [==============================] - 708s 2s/step - loss: 0.4958\n",
      "Epoch 39/50\n",
      "363/363 [==============================] - ETA: 0s - loss: 0.4934Epoch 39: Training Loss: 0.4934\n",
      "363/363 [==============================] - 710s 2s/step - loss: 0.4934\n",
      "Epoch 40/50\n",
      "363/363 [==============================] - ETA: 0s - loss: 0.4930\n",
      "Epoch 40: saving model to D:\\PHD_WORK\\3rd_experiment\\BPS_DATASET\\noisy_10_model\\noisy_10_G_bitplane_model\\checkpoint_g_10_3\\bit_denoising_model_40.pb\n"
     ]
    },
    {
     "name": "stderr",
     "output_type": "stream",
     "text": [
      "WARNING:absl:Found untraced functions such as _jit_compiled_convolution_op, _jit_compiled_convolution_op, _jit_compiled_convolution_op, _jit_compiled_convolution_op, _jit_compiled_convolution_op while saving (showing 5 of 29). These functions will not be directly callable after loading.\n"
     ]
    },
    {
     "name": "stdout",
     "output_type": "stream",
     "text": [
      "INFO:tensorflow:Assets written to: D:\\PHD_WORK\\3rd_experiment\\BPS_DATASET\\noisy_10_model\\noisy_10_G_bitplane_model\\checkpoint_g_10_3\\bit_denoising_model_40.pb\\assets\n"
     ]
    },
    {
     "name": "stderr",
     "output_type": "stream",
     "text": [
      "INFO:tensorflow:Assets written to: D:\\PHD_WORK\\3rd_experiment\\BPS_DATASET\\noisy_10_model\\noisy_10_G_bitplane_model\\checkpoint_g_10_3\\bit_denoising_model_40.pb\\assets\n"
     ]
    },
    {
     "name": "stdout",
     "output_type": "stream",
     "text": [
      "Epoch 40: Training Loss: 0.4930\n",
      "363/363 [==============================] - 713s 2s/step - loss: 0.4930\n",
      "Epoch 41/50\n",
      "363/363 [==============================] - ETA: 0s - loss: 0.4900Epoch 41: Training Loss: 0.4900\n",
      "363/363 [==============================] - 710s 2s/step - loss: 0.4900\n",
      "Epoch 42/50\n",
      "363/363 [==============================] - ETA: 0s - loss: 0.4900Epoch 42: Training Loss: 0.4900\n",
      "363/363 [==============================] - 711s 2s/step - loss: 0.4900\n",
      "Epoch 43/50\n",
      "363/363 [==============================] - ETA: 0s - loss: 0.4885Epoch 43: Training Loss: 0.4885\n",
      "363/363 [==============================] - 711s 2s/step - loss: 0.4885\n",
      "Epoch 44/50\n",
      "363/363 [==============================] - ETA: 0s - loss: 0.4869Epoch 44: Training Loss: 0.4869\n",
      "363/363 [==============================] - 702s 2s/step - loss: 0.4869\n",
      "Epoch 45/50\n",
      "363/363 [==============================] - ETA: 0s - loss: 0.4850\n",
      "Epoch 45: saving model to D:\\PHD_WORK\\3rd_experiment\\BPS_DATASET\\noisy_10_model\\noisy_10_G_bitplane_model\\checkpoint_g_10_3\\bit_denoising_model_45.pb\n"
     ]
    },
    {
     "name": "stderr",
     "output_type": "stream",
     "text": [
      "WARNING:absl:Found untraced functions such as _jit_compiled_convolution_op, _jit_compiled_convolution_op, _jit_compiled_convolution_op, _jit_compiled_convolution_op, _jit_compiled_convolution_op while saving (showing 5 of 29). These functions will not be directly callable after loading.\n"
     ]
    },
    {
     "name": "stdout",
     "output_type": "stream",
     "text": [
      "INFO:tensorflow:Assets written to: D:\\PHD_WORK\\3rd_experiment\\BPS_DATASET\\noisy_10_model\\noisy_10_G_bitplane_model\\checkpoint_g_10_3\\bit_denoising_model_45.pb\\assets\n"
     ]
    },
    {
     "name": "stderr",
     "output_type": "stream",
     "text": [
      "INFO:tensorflow:Assets written to: D:\\PHD_WORK\\3rd_experiment\\BPS_DATASET\\noisy_10_model\\noisy_10_G_bitplane_model\\checkpoint_g_10_3\\bit_denoising_model_45.pb\\assets\n"
     ]
    },
    {
     "name": "stdout",
     "output_type": "stream",
     "text": [
      "Epoch 45: Training Loss: 0.4850\n",
      "363/363 [==============================] - 721s 2s/step - loss: 0.4850\n",
      "Epoch 46/50\n",
      "363/363 [==============================] - ETA: 0s - loss: 0.4833Epoch 46: Training Loss: 0.4833\n",
      "363/363 [==============================] - 710s 2s/step - loss: 0.4833\n",
      "Epoch 47/50\n",
      "363/363 [==============================] - ETA: 0s - loss: 0.4825Epoch 47: Training Loss: 0.4825\n",
      "363/363 [==============================] - 711s 2s/step - loss: 0.4825\n",
      "Epoch 48/50\n",
      "363/363 [==============================] - ETA: 0s - loss: 0.4826Epoch 48: Training Loss: 0.4826\n",
      "363/363 [==============================] - 710s 2s/step - loss: 0.4826\n",
      "Epoch 49/50\n",
      "363/363 [==============================] - ETA: 0s - loss: 0.4805Epoch 49: Training Loss: 0.4805\n",
      "363/363 [==============================] - 646s 2s/step - loss: 0.4805\n",
      "Epoch 50/50\n",
      "363/363 [==============================] - ETA: 0s - loss: 0.4783\n",
      "Epoch 50: saving model to D:\\PHD_WORK\\3rd_experiment\\BPS_DATASET\\noisy_10_model\\noisy_10_G_bitplane_model\\checkpoint_g_10_3\\bit_denoising_model_50.pb\n"
     ]
    },
    {
     "name": "stderr",
     "output_type": "stream",
     "text": [
      "WARNING:absl:Found untraced functions such as _jit_compiled_convolution_op, _jit_compiled_convolution_op, _jit_compiled_convolution_op, _jit_compiled_convolution_op, _jit_compiled_convolution_op while saving (showing 5 of 29). These functions will not be directly callable after loading.\n"
     ]
    },
    {
     "name": "stdout",
     "output_type": "stream",
     "text": [
      "INFO:tensorflow:Assets written to: D:\\PHD_WORK\\3rd_experiment\\BPS_DATASET\\noisy_10_model\\noisy_10_G_bitplane_model\\checkpoint_g_10_3\\bit_denoising_model_50.pb\\assets\n"
     ]
    },
    {
     "name": "stderr",
     "output_type": "stream",
     "text": [
      "INFO:tensorflow:Assets written to: D:\\PHD_WORK\\3rd_experiment\\BPS_DATASET\\noisy_10_model\\noisy_10_G_bitplane_model\\checkpoint_g_10_3\\bit_denoising_model_50.pb\\assets\n"
     ]
    },
    {
     "name": "stdout",
     "output_type": "stream",
     "text": [
      "Epoch 50: Training Loss: 0.4783\n",
      "363/363 [==============================] - 259s 713ms/step - loss: 0.4783\n"
     ]
    },
    {
     "name": "stderr",
     "output_type": "stream",
     "text": [
      "WARNING:absl:Found untraced functions such as _jit_compiled_convolution_op, _jit_compiled_convolution_op, _jit_compiled_convolution_op, _jit_compiled_convolution_op, _jit_compiled_convolution_op while saving (showing 5 of 29). These functions will not be directly callable after loading.\n"
     ]
    },
    {
     "name": "stdout",
     "output_type": "stream",
     "text": [
      "INFO:tensorflow:Assets written to: D:\\PHD_WORK\\3rd_experiment\\BPS_DATASET\\bit_denoising_model_final.pb\\assets\n"
     ]
    },
    {
     "name": "stderr",
     "output_type": "stream",
     "text": [
      "INFO:tensorflow:Assets written to: D:\\PHD_WORK\\3rd_experiment\\BPS_DATASET\\bit_denoising_model_final.pb\\assets\n"
     ]
    },
    {
     "name": "stdout",
     "output_type": "stream",
     "text": [
      "Program execution time: 9 hours, 43 minutes, and 43 seconds\n"
     ]
    }
   ],
   "source": [
    "import os\n",
    "import numpy as np\n",
    "import tensorflow as tf\n",
    "import cv2\n",
    "\n",
    "import time\n",
    "\n",
    "# # track start time of program\n",
    "start = time.time()\n",
    "\n",
    "# Restrict TensorFlow to only allocate 2GB of GPU memory\n",
    "gpus = tf.config.experimental.list_physical_devices('GPU')\n",
    "if gpus:\n",
    "    try:\n",
    "        tf.config.experimental.set_virtual_device_configuration(\n",
    "            gpus[0],\n",
    "            [tf.config.experimental.VirtualDeviceConfiguration(memory_limit=2048)])  # 2GB limit\n",
    "    except RuntimeError as e:\n",
    "        print(e)\n",
    "\n",
    "\n",
    "# Function to load images from a folder\n",
    "def load_images_from_folder(folder):\n",
    "    images = []\n",
    "    for filename in os.listdir(folder):\n",
    "        img = cv2.imread(os.path.join(folder, filename), cv2.IMREAD_GRAYSCALE)\n",
    "        if img is not None:\n",
    "            img = img.astype(np.float32) / 255.0  # Normalize to [0, 1]\n",
    "            img[img > 0.5] = 1  # Convert to binary\n",
    "            img[img <= 0.5] = 0\n",
    "            images.append(img)\n",
    "    return np.array(images)\n",
    "\n",
    "# Function to extract patches\n",
    "def extract_patches(images, patch_size, stride):\n",
    "    patches = []\n",
    "    for img in images:\n",
    "        img = img.reshape(img.shape[0], img.shape[1], 1)  # Add channel dimension\n",
    "        for i in range(0, img.shape[0] - patch_size + 1, stride):\n",
    "            for j in range(0, img.shape[1] - patch_size + 1, stride):\n",
    "                patch = img[i:i+patch_size, j:j+patch_size]\n",
    "                patches.append(patch)\n",
    "    return np.array(patches)\n",
    "\n",
    "# Paths to the new noisy and clean image folders for training\n",
    "new_train_noisy_folder = 'D:\\\\PHD_WORK\\\\3rd_experiment\\\\BPS_DATASET\\\\noisy\\\\noisy_10\\\\G\\\\bit_plane_3'\n",
    "new_train_clean_folder = 'D:\\\\PHD_WORK\\\\3rd_experiment\\\\BPS_DATASET\\\\clean\\\\G\\\\bit_plane_3'\n",
    "\n",
    "# Load new training images\n",
    "X_new_train_images = load_images_from_folder(new_train_noisy_folder)\n",
    "Y_new_train_images = load_images_from_folder(new_train_clean_folder)\n",
    "\n",
    "# Extract patches from the new dataset\n",
    "patch_size = 40\n",
    "stride = 10\n",
    "X_new_train = extract_patches(X_new_train_images, patch_size, stride)\n",
    "Y_new_train = extract_patches(Y_new_train_images, patch_size, stride)\n",
    "\n",
    "# Load the previously trained model\n",
    "model_path = \"D:\\\\PHD_WORK\\\\3rd_experiment\\\\BPS_DATASET\\\\noisy_10_model\\\\noisy_10_B_bitplane_model\\\\checkpoint_b_10_2\\\\bit_denoising_model_50.pb\"\n",
    "model = tf.keras.models.load_model(model_path)\n",
    "\n",
    "# Compile the model (if not already compiled)\n",
    "initial_lr = 1e-3\n",
    "model.compile(optimizer=tf.keras.optimizers.Adam(learning_rate=initial_lr),\n",
    "              loss=tf.keras.losses.BinaryCrossentropy())\n",
    "\n",
    "# Callbacks for training\n",
    "checkpoint_dir = \"D:\\\\PHD_WORK\\\\3rd_experiment\\\\BPS_DATASET\\\\noisy_10_model\\\\noisy_10_G_bitplane_model\\\\checkpoint_g_10_3\"\n",
    "checkpoint_callback = tf.keras.callbacks.ModelCheckpoint(\n",
    "    filepath=os.path.join(checkpoint_dir, 'bit_denoising_model_{epoch:02d}.pb'),\n",
    "    save_weights_only=False, save_best_only=False, mode='min', verbose=1, save_freq='epoch', period=5\n",
    ")\n",
    "\n",
    "log_path = 'D:\\\\PHD_WORK\\\\3rd_experiment\\\\BPS_DATASET\\\\noisy_10_model\\\\noisy_10_G_bitplane_model\\\\checkpoint_g_10_3\\\\log1.csv'\n",
    "csv_logger = tf.keras.callbacks.CSVLogger(log_path)\n",
    "\n",
    "class PrintTrainingLoss(tf.keras.callbacks.Callback):\n",
    "    def on_epoch_end(self, epoch, logs=None):\n",
    "        print(f'Epoch {epoch + 1}: Training Loss: {logs[\"loss\"]:.4f}')\n",
    "\n",
    "# Train the model on the new dataset for additional epochs\n",
    "additional_epochs = 20  # Specify the number of additional epochs\n",
    "model.fit(X_new_train, Y_new_train, epochs=50, batch_size=32, callbacks=[checkpoint_callback, csv_logger, PrintTrainingLoss()])\n",
    "\n",
    "# Save the model after additional training\n",
    "new_model_path = \"D:\\\\PHD_WORK\\\\3rd_experiment\\\\BPS_DATASET\\\\bit_denoising_model_final.pb\"\n",
    "model.save(new_model_path)\n",
    "\n",
    "# Track end time of program\n",
    "end = time.time()\n",
    "\n",
    "# Calculate total time taken to run this program\n",
    "total_time = end - start\n",
    "\n",
    "# Print the total time taken to run this program, converted to hours and minutes\n",
    "hours, remainder = divmod(total_time, 3600)\n",
    "minutes, seconds = divmod(remainder, 60)\n",
    "print(f\"Program execution time: {int(hours)} hours, {int(minutes)} minutes, and {int(seconds)} seconds\")\n"
   ]
  }
 ],
 "metadata": {
  "accelerator": "GPU",
  "colab": {
   "gpuType": "T4",
   "provenance": []
  },
  "kernelspec": {
   "display_name": "Python 3 (ipykernel)",
   "language": "python",
   "name": "python3"
  },
  "language_info": {
   "codemirror_mode": {
    "name": "ipython",
    "version": 3
   },
   "file_extension": ".py",
   "mimetype": "text/x-python",
   "name": "python",
   "nbconvert_exporter": "python",
   "pygments_lexer": "ipython3",
   "version": "3.9.19"
  }
 },
 "nbformat": 4,
 "nbformat_minor": 4
}
